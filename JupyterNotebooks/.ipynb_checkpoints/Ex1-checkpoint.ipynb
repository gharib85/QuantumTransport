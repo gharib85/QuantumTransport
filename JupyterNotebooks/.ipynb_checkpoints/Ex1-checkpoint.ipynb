{
 "cells": [
  {
   "cell_type": "markdown",
   "metadata": {},
   "source": [
    "# Exercise 1\n",
    "## a)\n",
    "\n",
    "We have Eq. 4:\n",
    "$$I=I_{L\\rightarrow R}-I_{R\\rightarrow L} = 2e\\int_{0}^{\\infty} \\frac{dk}{2\\pi}v_kT(E_k)[f_L(E_k)-f_R(E_k)]$$\n",
    "and Eq. 5(a and b):\n",
    "$$I=\\frac{2e}{h}=\\int dET(E)[f_L(E)-f_R(E)]\\approx\\frac{2e}{h}T(E_F)(\\mu_L-\\mu_R)$$\n",
    "From Eq. 2 we know that $dk=dE/\\hbar v_k$ and that $\\hbar=\\frac{h}{2\\pi}$.\n",
    "Substituting these into Eq 4:\n",
    "$$I = \\frac{2e}{h}\\int_{0}^{\\infty} dE T(E_k)[f_L(E_k)-f_R(E_k)]$$\n",
    "If the temperature in the system is "
   ]
  },
  {
   "cell_type": "markdown",
   "metadata": {},
   "source": []
  }
 ],
 "metadata": {
  "kernelspec": {
   "display_name": "Python 3",
   "language": "python",
   "name": "python3"
  },
  "language_info": {
   "codemirror_mode": {
    "name": "ipython",
    "version": 3
   },
   "file_extension": ".py",
   "mimetype": "text/x-python",
   "name": "python",
   "nbconvert_exporter": "python",
   "pygments_lexer": "ipython3",
   "version": "3.7.2"
  }
 },
 "nbformat": 4,
 "nbformat_minor": 2
}
