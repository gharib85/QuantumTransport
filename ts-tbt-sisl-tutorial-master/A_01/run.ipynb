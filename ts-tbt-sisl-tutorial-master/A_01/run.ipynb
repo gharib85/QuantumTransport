{
 "cells": [
  {
   "cell_type": "code",
   "execution_count": null,
   "metadata": {},
   "outputs": [],
   "source": [
    "from __future__ import print_function\n",
    "import sisl\n",
    "import numpy as np\n",
    "import matplotlib.pyplot as plt\n",
    "%matplotlib inline"
   ]
  },
  {
   "cell_type": "markdown",
   "metadata": {},
   "source": [
    "In [TB 5](../TB_05/run.ipynb) a pristine graphene flake with a hole was created.\n",
    "\n",
    "Here you should reproduce the results of the tight-binding example 5. However, instead of removing the atoms in Python and saving the Hamiltonian for the system with a hole, you should exclude the atoms via the `TBT.Atoms.Buffer` block. I.e. save the full Hamiltonian for the pristine graphene flake."
   ]
  },
  {
   "cell_type": "code",
   "execution_count": null,
   "metadata": {},
   "outputs": [],
   "source": []
  }
 ],
 "metadata": {
  "kernelspec": {
   "display_name": "Python 3",
   "language": "python",
   "name": "python3"
  },
  "language_info": {
   "codemirror_mode": {
    "name": "ipython",
    "version": 3
   },
   "file_extension": ".py",
   "mimetype": "text/x-python",
   "name": "python",
   "nbconvert_exporter": "python",
   "pygments_lexer": "ipython3",
   "version": "3.7.1"
  }
 },
 "nbformat": 4,
 "nbformat_minor": 2
}
