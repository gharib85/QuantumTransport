{
 "cells": [
  {
   "cell_type": "code",
   "execution_count": null,
   "metadata": {},
   "outputs": [],
   "source": [
    "from __future__ import print_function\n",
    "import sisl\n",
    "import numpy as np\n",
    "import matplotlib.pyplot as plt\n",
    "%matplotlib inline"
   ]
  },
  {
   "cell_type": "markdown",
   "metadata": {},
   "source": [
    "Perform a 4-terminal calculation with 2 crossed Carbon chains.  \n",
    "Running a two-terminal calculation with TranSiesta is a breeze compared to running $N>2$-electrode calculations. When performing $N>2$-electrode calculations an endless combination of different applied bias settings become apparent.  \n",
    "This will be reflected in an even more verbose input for TranSiesta to describe all the 4 electrodes, contours, chemical potentials etc.\n",
    "\n",
    "This example will primarily create the geometries, and then you should perform data analysis."
   ]
  },
  {
   "cell_type": "code",
   "execution_count": null,
   "metadata": {},
   "outputs": [],
   "source": [
    "chain = sisl.Geometry([[0,0,0]], atom=sisl.Atom[6], sc=[1.4, 1.4, 11])\n",
    "elec_x = chain.tile(4, axis=0).add_vacuum(11 - 1.4, 1)\n",
    "elec_x.write('ELEC_X.fdf')\n",
    "elec_y = chain.tile(4, axis=1).add_vacuum(11 - 1.4, 0)\n",
    "elec_y.write('ELEC_Y.fdf')\n",
    "chain_x = elec_x.tile(4, axis=0)\n",
    "chain_y = elec_y.tile(4, axis=1)\n",
    "chain_x = chain_x.translate(-chain_x.center(what='xyz'))\n",
    "chain_y = chain_y.translate(-chain_y.center(what='xyz'))"
   ]
  },
  {
   "cell_type": "code",
   "execution_count": null,
   "metadata": {},
   "outputs": [],
   "source": [
    "device = chain_x.append(chain_y.translate([0, 0, -chain.cell[2, 2] + 2.1]), 2)\n",
    "# Correct the y-direction vacuum\n",
    "device = device.add_vacuum(chain_y.cell[1, 1] - chain_x.cell[1,1], 1)\n",
    "device = device.translate(device.center(what='cell'))\n",
    "device.write('DEVICE.fdf')\n",
    "device.write('DEVICE.xyz')"
   ]
  },
  {
   "cell_type": "markdown",
   "metadata": {},
   "source": [
    "## Exercises\n",
    "\n",
    "- Run the two electrodes (`RUN_ELEC_X/Y.fdf`).\n",
    "- Run the TranSiesta analyzation step (see fdf flag: `TS.Analyze`) and determine the optimal pivoting scheme used.  \n",
    "  If you are interested you may try to use the worst pivoting scheme and see if it affects the execution time (however this system is very small so the time difference may be very small).\n",
    "- After analyzation and adding the resulting pivoting scheme to `RUN.fdf`; run the device (`RUN.fdf`).\n",
    "- Try and extract similar data as done in [TB 6](../TB_06/run.ipynb). At least plot one of the DOS quantities.\n",
    "- Extend your DOS plot to be *orbitally resolved* by extracting only subsets of DOS, in this regard also play with the `norm` keyword, try and plot the DOS per $s$, sum of $p$, etc. for the orbitals on the Carbon atoms.\n",
    "\n",
    "  - A file named `siesta.ORB_INDX` has been created by Siesta which contains the orbital information per atom, this should give you access to the indices for extraction."
   ]
  },
  {
   "cell_type": "code",
   "execution_count": null,
   "metadata": {},
   "outputs": [],
   "source": [
    "tbt = sisl.get_sile('siesta.TBT.nc')"
   ]
  },
  {
   "cell_type": "code",
   "execution_count": null,
   "metadata": {},
   "outputs": [],
   "source": []
  },
  {
   "cell_type": "markdown",
   "metadata": {},
   "source": [
    "- Plot bond (vector) currents, below is a skeleton code to do this, look in the `sisl` manual for extraction of *vector current*"
   ]
  },
  {
   "cell_type": "code",
   "execution_count": null,
   "metadata": {},
   "outputs": [],
   "source": [
    "xy = tbt.geometry.xyz[:, :]\n",
    "J1 = # fill in the corresponding code here ()\n",
    "plt.quiver(xy[:, 0], xy[:, 1], J1[:, 0], J1[:, 1]);"
   ]
  },
  {
   "cell_type": "code",
   "execution_count": null,
   "metadata": {},
   "outputs": [],
   "source": []
  },
  {
   "cell_type": "markdown",
   "metadata": {},
   "source": [
    "Performing NEGF calculations for $N$-electrodes with an applied bias is *extremely* difficult and one should first take on this task once the traditional TranSiesta 2-electrode setup is a breeze.\n",
    "\n",
    "One of the main difficulties in performing *good* $N$-electrode calculations is the Poisson solution and the boundary conditions. These are more difficult to empose when having more than 2 electrodes or 1 electrode (only 2 electrode setups are *easy*).\n",
    "\n",
    "- In a 2 terminal device it is obvious how the applied bias is located (a ramp between the two electrodes), however,\n",
    "  when dealing with more than 2 elecrodes all electrodes may have a different chemical potential and thus the variations in how to apply the bias becomes infinite.  \n",
    "  Your first task is to read through `RUN.fdf` and figure out which electrode has which chemical potential and draw a small schematic of it.\n",
    "- Calculate the NEGF with a bias of 0.5 eV (please use this command line, for details of options refer to the Siesta manual):\n",
    "\n",
    "      siesta -L no_guess_0.5 -V 0.5:eV RUN.fdf > no_guess_0.5.out\n",
    "      \n",
    "  which applies a bias of 0.5 eV. Read through the output and find the warning which justifies the name `no_guess`.\n",
    "- There should now be 2 files that lets you plot the bias potential profile, `siesta.VH` and `no_guess_0.5.VH`.\n",
    "   Use the below method to plot the plane right between the two carbon chains (*HINT*: calculating the $z$-value at the **center** between the two chains may be done using a method for the `Geometry` object)"
   ]
  },
  {
   "cell_type": "code",
   "execution_count": null,
   "metadata": {},
   "outputs": [],
   "source": [
    "def plot_grid(grid, plane_dist=1):\n",
    "    \"\"\" Plot a cut through the grid \"\"\"\n",
    "    z_index = grid.index(plane_dist, 2)\n",
    "    x, y = np.mgrid[:grid.shape[0], :grid.shape[1]]\n",
    "    dcell = grid.dcell\n",
    "    x, y = x * dcell[0, 0] + y * dcell[1, 0], x * dcell[0, 1] + y * dcell[1, 1]\n",
    "    fig, ax = plt.subplots(1, 1)\n",
    "    im = ax.contourf(x, y, grid.grid[:, :, z_index])\n",
    "    ax.set_xlabel(r'$x$ [Ang]'); ax.set_ylabel(r'$y$ [Ang]')\n",
    "    ax.set_title('Potential difference [eV]')\n",
    "    # Also plot the atomic coordinates\n",
    "    xyz = grid.geometry.xyz\n",
    "    ax.scatter(xyz[:, 0], xyz[:, 1], 50, 'k', alpha=.6)\n",
    "    fig.colorbar(im);"
   ]
  },
  {
   "cell_type": "code",
   "execution_count": null,
   "metadata": {},
   "outputs": [],
   "source": [
    "# Read in the two different grids:\n",
    "grid0 = sisl.get_sile('siesta.VH').read_grid()"
   ]
  },
  {
   "cell_type": "code",
   "execution_count": null,
   "metadata": {},
   "outputs": [],
   "source": [
    "no_guess = sisl.get_sile('no_guess_0.5.VH').read_grid()\n",
    "# Specify the geometry so we can add the atoms to the plot\n",
    "no_guess.set_geometry(device)\n",
    "plot_grid(no_guess - grid0, 1.) # replace with the correct z-distance"
   ]
  },
  {
   "cell_type": "markdown",
   "metadata": {},
   "source": [
    "- TranSiesta's method of setting boundary conditions for $N$-electrodes is extremely crude since it only fixes the potential on the electrodes. Instead of letting TranSiesta apply the boundary conditions we can provide an external solution to the Poisson problem with *proper* boundary conditions of the electrodes.  \n",
    "  Below is a method to solve the Poisson problem in Python using `pyamg`. It takes quite some time, so be patient.  \n",
    "  You don't need to understand the below script (but I won't hold you back if you want to carefully read it through ;))"
   ]
  },
  {
   "cell_type": "code",
   "execution_count": null,
   "metadata": {},
   "outputs": [],
   "source": [
    "G = sisl.Grid\n",
    "# Define the boundary conditions in the unit-cell\n",
    "bc = [[G.PERIODIC, G.PERIODIC],\n",
    "      [G.PERIODIC, G.PERIODIC], # even though left/right meet, we can still use periodic because of the fixed boundaries of the electrodes\n",
    "      [G.NEUMANN, G.NEUMANN]]\n",
    "\n",
    "def solve(A, b, tol=1e-10):\n",
    "    \"\"\" Don't worry too much about this, if you don't have pyamg installed it will fail\"\"\"\n",
    "    import pyamg\n",
    "    from scipy.sparse.linalg import cg\n",
    "    print('Initiating solver:')\n",
    "    ml = pyamg.aggregation.smoothed_aggregation_solver(A, max_levels=1000)\n",
    "    M = ml.aspreconditioner(cycle='W') # pre-conditioner\n",
    "    residuals = []\n",
    "    def callback(x):\n",
    "        residuals.append(np.linalg.norm(b-A*x))\n",
    "        print('    itt {} with residual {:.2e} / {:.2e}'.format(len(residuals), residuals[-1], residuals[-1] / residuals[0]))\n",
    "    x, info = cg(A, b, tol=tol, M=M, callback=callback)\n",
    "    if info != 0:\n",
    "        raise ValueError('Could not find solution')\n",
    "    print('Solved the Poisson problem!!!')\n",
    "    return x\n",
    "\n",
    "# Atomic indices for the 4 electrodes\n",
    "elecs = []\n",
    "# X-left\n",
    "elecs.append([1., elec_x, np.arange(elec_x.na)])\n",
    "# X-right\n",
    "elecs.append([1., elec_x, np.arange(chain_x.na - elec_x.na, chain_x.na)])\n",
    "# Y-left\n",
    "elecs.append([-1., elec_y, np.arange(chain_x.na, chain_x.na + elec_y.na)])\n",
    "# Y-right\n",
    "elecs.append([-1., elec_y, np.arange(device.na - elec_y.na, device.na)])\n",
    "\n",
    "# We use the extra dimension because of idx % shape further down below, i.e. broad-casting\n",
    "shape = np.array([grid0.shape])\n",
    "grid = sisl.Grid(shape, bc=bc, geometry=device)\n",
    "\n",
    "# Now create the pyamg matrix\n",
    "# Because we already have the \"correct\" boundary conditions as provided above\n",
    "# this call will also setup the correct boundary conditions.\n",
    "A, b = grid.topyamg()\n",
    "\n",
    "# Find placement\n",
    "for i, (V, elec, elec_idx) in enumerate(elecs):\n",
    "    print('Finding indices for electrode {}'.format(i + 1))\n",
    "    # Note this will also work for *any* skewed electrode cell.\n",
    "    cube = sisl.Cuboid(elec.sc.cell, center=np.average(device.xyz[elec_idx, :], 0))\n",
    "    idx = grid.index(cube)\n",
    "    # fold indices into primary cell\n",
    "    idx = np.unique(idx % shape, axis=0)\n",
    "    indices = grid.pyamg_index(idx)\n",
    "    grid.pyamg_fix(A, b, indices, V)\n",
    "\n",
    "# Ensure we have memory enough (for really large systems\n",
    "# the sparse matrix may be *VERY* big).\n",
    "# small trick to not have the solution array twice.\n",
    "del grid.grid\n",
    "grid.grid = solve(A, b).reshape(shape.ravel())\n",
    "grid.write('V.TSV.nc')"
   ]
  },
  {
   "cell_type": "markdown",
   "metadata": {},
   "source": [
    "- After having solved the Poisson problem an additional file is created `V.TSV.nc`. It contains the Poisson solution with the appropriate boundary conditions. Now run TranSiesta like this:\n",
    "\n",
    "      siesta -L guess_0.5 -V 0.5:eV -fdf TS.Poisson:V.TSV.nc RUN.fdf > guess_0.5.out\n",
    "      \n",
    "- Once completed there will be two solutions of the same applied bias `no_guess_0.5` and `guess_0.5`. It is instructive to compare the two:\n",
    "  1. Compare the output of the two runs, is there a difference in the SCF?\n",
    "  2. Plot the potential cut for the `guess_0.5` file as done above for `no_guess_0.5`, how do they differ? Try and plot a few other plane-cuts.\n",
    "  3. Calculate the transmission for both runs using these commands:\n",
    "\n",
    "         tbtrans -L guess_0.5 -V 0.5:eV -D guess_0.5 RUN.fdf > TBT_guess_0.5.out\n",
    "         tbtrans -L no_guess_0.5 -V 0.5:eV -D no_guess_0.5 RUN.fdf > TBT_no_guess_0.5.out\n",
    "      \n",
    "     Plot the two transmissions and density of states, are they the same?\n",
    "- If you have VMD/XCrySDen installed try out the command-line utility `sgrid` to create a cube file containing the potential profile, [this page](http://zerothi.github.io/sisl/docs/latest/scripts/sgrid.html) may be useful."
   ]
  },
  {
   "cell_type": "code",
   "execution_count": null,
   "metadata": {},
   "outputs": [],
   "source": []
  }
 ],
 "metadata": {
  "kernelspec": {
   "display_name": "Python 3",
   "language": "python",
   "name": "python3"
  },
  "language_info": {
   "codemirror_mode": {
    "name": "ipython",
    "version": 3
   },
   "file_extension": ".py",
   "mimetype": "text/x-python",
   "name": "python",
   "nbconvert_exporter": "python",
   "pygments_lexer": "ipython3",
   "version": "3.7.1"
  }
 },
 "nbformat": 4,
 "nbformat_minor": 2
}
